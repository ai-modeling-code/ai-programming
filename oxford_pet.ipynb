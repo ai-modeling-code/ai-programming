{
 "cells": [
  {
   "cell_type": "code",
   "execution_count": null,
   "metadata": {
    "colab": {
     "base_uri": "https://localhost:8080/"
    },
    "executionInfo": {
     "elapsed": 18013,
     "status": "ok",
     "timestamp": 1748856611615,
     "user": {
      "displayName": "박병운",
      "userId": "04400398390095856511"
     },
     "user_tz": -540
    },
    "id": "F1T_M93dAxDz",
    "outputId": "d716c141-c07a-4cf7-fcf1-ebfdd45bcc14"
   },
   "outputs": [],
   "source": [
    "# from google.colab import drive\n",
    "# drive.mount('/content/drive')"
   ]
  },
  {
   "cell_type": "markdown",
   "metadata": {
    "id": "XKrRyndQ5WVw"
   },
   "source": [
    "# 1 Oxford pet Dataset 소개\n",
    "\n",
    "인공지능 프로젝트를 개발하는 데 가장 중요한 것은 우선 데이터를 찾고 전처리하는 작업이다."
   ]
  },
  {
   "cell_type": "markdown",
   "metadata": {
    "id": "XKBNUROI5aQc"
   },
   "source": [
    "### 2 Oxford pet Dataset 코드 읽어 오기\n",
    "\n",
    "코랩 서버에 데이터를 업로드하고 데이터 세트에 대한 시각화 및 정보를 출력해 보자.\n",
    "\n",
    "1. 데이터 다운로드 및 압축 풀기"
   ]
  },
  {
   "cell_type": "code",
   "execution_count": null,
   "metadata": {
    "id": "1lojfHexAFNj"
   },
   "outputs": [],
   "source": [
    "# !sudo apt-get install unzip"
   ]
  },
  {
   "cell_type": "code",
   "execution_count": null,
   "metadata": {
    "colab": {
     "base_uri": "https://localhost:8080/"
    },
    "executionInfo": {
     "elapsed": 15966,
     "status": "ok",
     "timestamp": 1748856658775,
     "user": {
      "displayName": "박병운",
      "userId": "04400398390095856511"
     },
     "user_tz": -540
    },
    "id": "UKo9fx_V4vwV",
    "outputId": "fab5a36a-9b3b-4e11-b2d6-2b556b5b8576"
   },
   "outputs": [],
   "source": [
    "# import gdown\n",
    "# url = 'https://drive.google.com/file/d/1USSTL8IlR_gux_FAPFI4wpOkEdanxgPZ'\n",
    "# fname = 'oxford_pet.zip'\n",
    "# gdown.download(url, fname, quiet=False)\n",
    "# !unzip -qq /content/drive/MyDrive/oxford_pet.zip"
   ]
  },
  {
   "cell_type": "code",
   "execution_count": null,
   "metadata": {
    "colab": {
     "base_uri": "https://localhost:8080/"
    },
    "executionInfo": {
     "elapsed": 35781,
     "status": "ok",
     "timestamp": 1748856736448,
     "user": {
      "displayName": "박병운",
      "userId": "04400398390095856511"
     },
     "user_tz": -540
    },
    "id": "ILrli7I-AJ_O",
    "outputId": "58824f8f-a782-4fb3-b211-9e53922e667c"
   },
   "outputs": [],
   "source": [
    "# !unzip /content/drive/MyDrive/oxford_pet.zip -d /content/"
   ]
  },
  {
   "cell_type": "markdown",
   "metadata": {
    "id": "nly_hk6y5ifP"
   },
   "source": [
    "2. 라이브러리 import하기\n",
    "\n",
    "pandas, seaborn, matplotlib.pyplot을 import한다."
   ]
  },
  {
   "cell_type": "code",
   "execution_count": null,
   "metadata": {
    "executionInfo": {
     "elapsed": 43,
     "status": "ok",
     "timestamp": 1748856745620,
     "user": {
      "displayName": "박병운",
      "userId": "04400398390095856511"
     },
     "user_tz": -540
    },
    "id": "94WpNaBS5jR9"
   },
   "outputs": [],
   "source": [
    "import pandas as pd\n",
    "import seaborn as sns\n",
    "import matplotlib.pyplot as plt\n",
    "\n",
    "sns.set_style('whitegrid')"
   ]
  },
  {
   "cell_type": "markdown",
   "metadata": {
    "id": "BZgLtnzj5lR1"
   },
   "source": [
    "3. list.txt파일 읽어 오기\n",
    "\n",
    "images, annotations 폴더를 업로드하고 데이터 정보가 있는 list,txt 파일을 읽어온다."
   ]
  },
  {
   "cell_type": "code",
   "execution_count": null,
   "metadata": {
    "colab": {
     "base_uri": "https://localhost:8080/",
     "height": 424
    },
    "executionInfo": {
     "elapsed": 58,
     "status": "ok",
     "timestamp": 1748856747535,
     "user": {
      "displayName": "박병운",
      "userId": "04400398390095856511"
     },
     "user_tz": -540
    },
    "id": "4sGq5eBo5nMG",
    "outputId": "13057cc2-040d-4106-b340-7df53be1e033"
   },
   "outputs": [],
   "source": [
    "df = pd.read_csv('./annotations/list.txt', skiprows=6, delimiter=' ', header=None)\n",
    "\n",
    "# list.txt 안의 정보대로 파일 이름, id, species, breed 순서로 칼럼을 만들어 준다.\n",
    "df.columns = ['file_name', 'id', 'species', 'breed']\n",
    "df"
   ]
  },
  {
   "cell_type": "code",
   "execution_count": null,
   "metadata": {
    "colab": {
     "base_uri": "https://localhost:8080/"
    },
    "executionInfo": {
     "elapsed": 19,
     "status": "ok",
     "timestamp": 1748856750201,
     "user": {
      "displayName": "박병운",
      "userId": "04400398390095856511"
     },
     "user_tz": -540
    },
    "id": "IXICONnd5tOP",
    "outputId": "230ad1f1-16a1-49d3-eddd-956444706e07"
   },
   "outputs": [],
   "source": [
    "# 고양이와 강아지의 정보 출력하기\n",
    "print(df['species'].value_counts().sort_index())"
   ]
  },
  {
   "cell_type": "markdown",
   "metadata": {
    "id": "EseD3e-h5vJm"
   },
   "source": [
    "4. 그래프로 시각화하기\n",
    "\n",
    "개인지 고양이인지 구분해 주는 species 속성을 바 그래프로 불러와 개수를 시각화한다."
   ]
  },
  {
   "cell_type": "code",
   "execution_count": null,
   "metadata": {
    "colab": {
     "base_uri": "https://localhost:8080/",
     "height": 430
    },
    "executionInfo": {
     "elapsed": 183,
     "status": "ok",
     "timestamp": 1748856751854,
     "user": {
      "displayName": "박병운",
      "userId": "04400398390095856511"
     },
     "user_tz": -540
    },
    "id": "hOUvyfZa5y5Z",
    "outputId": "14bd01d5-cd31-446e-8bd1-44c8949ec977"
   },
   "outputs": [],
   "source": [
    "value_counts = df['species'].value_counts().sort_index()\n",
    "\n",
    "plt.bar(range(len(value_counts)), value_counts.values, align='center')\n",
    "plt.xticks(range(len(value_counts)), value_counts.index.values)\n",
    "\n",
    "plt.show()"
   ]
  },
  {
   "cell_type": "markdown",
   "metadata": {
    "id": "t9-0SByT5yR0"
   },
   "source": [
    "5. 다른 파일 읽어 오기 및 경로 설정하기\n",
    "\n",
    "앞서 설명한 파일들의 경로를 읽어서 파일을 잘 읽어 왔는지 확인한다."
   ]
  },
  {
   "cell_type": "code",
   "execution_count": null,
   "metadata": {
    "colab": {
     "base_uri": "https://localhost:8080/"
    },
    "executionInfo": {
     "elapsed": 17,
     "status": "ok",
     "timestamp": 1748856754576,
     "user": {
      "displayName": "박병운",
      "userId": "04400398390095856511"
     },
     "user_tz": -540
    },
    "id": "rxMvwR2G53p6",
    "outputId": "3fb4f5c9-01ad-4ef7-beae-38c6ba8a370d"
   },
   "outputs": [],
   "source": [
    "import os\n",
    "from glob import glob\n",
    "\n",
    "image_dir = os.path.join('/content/images')\n",
    "bbox_dir = os.path.join('/content/annotations/xmls')\n",
    "seg_dir = os.path.join('/content/annotations/trimaps')\n",
    "\n",
    "image_files = [fname for fname in os.listdir(image_dir) if os.path.splitext(fname)[-1] == '.jpg']\n",
    "len(image_files)"
   ]
  },
  {
   "cell_type": "code",
   "execution_count": null,
   "metadata": {
    "colab": {
     "base_uri": "https://localhost:8080/"
    },
    "executionInfo": {
     "elapsed": 11,
     "status": "ok",
     "timestamp": 1748856757035,
     "user": {
      "displayName": "박병운",
      "userId": "04400398390095856511"
     },
     "user_tz": -540
    },
    "id": "AgUUPD8755gR",
    "outputId": "31793474-eaef-4a3e-93e3-97785d7379b9"
   },
   "outputs": [],
   "source": [
    "# 파일 확인\n",
    "image_files[:10]"
   ]
  },
  {
   "cell_type": "code",
   "execution_count": null,
   "metadata": {
    "colab": {
     "base_uri": "https://localhost:8080/"
    },
    "executionInfo": {
     "elapsed": 10,
     "status": "ok",
     "timestamp": 1748856759058,
     "user": {
      "displayName": "박병운",
      "userId": "04400398390095856511"
     },
     "user_tz": -540
    },
    "id": "0Z9VRo9W57zI",
    "outputId": "b3892428-fb97-4508-f48c-314b4edd2b01"
   },
   "outputs": [],
   "source": [
    "seg_files = glob(seg_dir + '*.png')\n",
    "len(seg_files)"
   ]
  },
  {
   "cell_type": "code",
   "execution_count": null,
   "metadata": {
    "colab": {
     "base_uri": "https://localhost:8080/"
    },
    "executionInfo": {
     "elapsed": 9,
     "status": "ok",
     "timestamp": 1748856760148,
     "user": {
      "displayName": "박병운",
      "userId": "04400398390095856511"
     },
     "user_tz": -540
    },
    "id": "Q7n2VpNA59bf",
    "outputId": "6a8726b1-d438-4058-d301-7d8624db7e02"
   },
   "outputs": [],
   "source": [
    "bbox_files = glob(bbox_dir + '*.xml')\n",
    "len(bbox_files)"
   ]
  },
  {
   "cell_type": "markdown",
   "metadata": {
    "id": "4HwxBcKp5_EW"
   },
   "source": [
    "### 3 head ROI 읽어 오기\n",
    "\n",
    "개와 고양이 이미지에 바운딩 박스를 표시하고, 개, 고양이 부분과 배경 부부을 색으로 구분해 보자.\n",
    "\n",
    "1. 라이브러리 import하기\n",
    "\n",
    "이미지를 읽기 위한 라이브러리와 바운딩 박스를 그리기 위한 라이브러리 및 xml을 다루기 위한 라이브러리를 가져온다."
   ]
  },
  {
   "cell_type": "code",
   "execution_count": null,
   "metadata": {
    "id": "_7AWI9EC6Bxs"
   },
   "outputs": [],
   "source": [
    "# import cv2\n",
    "# import xml.etree.ElementTree as et\n",
    "# from matplotlib.patches import Rectangle"
   ]
  },
  {
   "cell_type": "markdown",
   "metadata": {
    "id": "zQgWpBwc6Do3"
   },
   "source": [
    "2. 바운딩 박스 **그리기**"
   ]
  },
  {
   "cell_type": "code",
   "execution_count": null,
   "metadata": {
    "id": "t7kltB6_6Fwc"
   },
   "outputs": [],
   "source": [
    "# image_path = image_files[110]\n",
    "# # 저장된 위치를 달리해 불러온다.\n",
    "# bbox_path = image_path.replace(image_dir, bbox_dir).replace('jgp', 'xml')\n",
    "\n",
    "# image = cv2.imread(image_path)\n",
    "\n",
    "# # BGR 형식을 RGB로 바꾼다.\n",
    "# image = cv2.cvtColor(image, cv2.COLOR_BGR2RGB)\n",
    "\n",
    "# # xml 파일을 가져와 준다.\n",
    "# tree = et.parse(bbox_path)\n",
    "\n",
    "# # 바운딩 박스의 좌표를 가져와 읽어 온다.\n",
    "# xmin = float(tree.find('./object/bndbox/xmin').text)\n",
    "# xmax = float(tree.find('./object/bndbox/xmax').text)\n",
    "# ymin = float(tree.find('./object/bndbox/ymin').text)\n",
    "# ymax = float(tree.find('./object/bndbox/ymax').text)\n",
    "\n",
    "# # 바운딩 박스를 그린다.\n",
    "# rect_x = xmin\n",
    "# rect_y = ymin\n",
    "# rect_w = xmax - xmin\n",
    "# rect_h = ymax - ymin\n",
    "\n",
    "# rect = Rectangle((rect_x, rect_y), rect_w, rect_h, fill=False, color='red')\n",
    "# plt.axes().add_patch(rect)\n",
    "# plt.imshow(image)\n",
    "\n",
    "# plt.show()"
   ]
  },
  {
   "cell_type": "code",
   "execution_count": null,
   "metadata": {
    "colab": {
     "base_uri": "https://localhost:8080/",
     "height": 396
    },
    "executionInfo": {
     "elapsed": 483,
     "status": "ok",
     "timestamp": 1748856765489,
     "user": {
      "displayName": "박병운",
      "userId": "04400398390095856511"
     },
     "user_tz": -540
    },
    "id": "4AWhHsaeDIAV",
    "outputId": "c5982bcb-88bc-4fa9-a42b-9ec72250430b"
   },
   "outputs": [],
   "source": [
    "import cv2\n",
    "import xml.etree.ElementTree as et\n",
    "from matplotlib.patches import Rectangle\n",
    "import matplotlib.pyplot as plt # Import matplotlib.pyplot\n",
    "import os # Import os\n",
    "\n",
    "# Use os.path.join to create the full path to the image\n",
    "image_path = os.path.join(image_dir, image_files[110])\n",
    "# 저장된 위치를 달리해 불러온다.\n",
    "# Correct the typo 'jgp' to 'jpg'\n",
    "bbox_path = image_path.replace(image_dir, bbox_dir).replace('jpg', 'xml')\n",
    "\n",
    "image = cv2.imread(image_path)\n",
    "\n",
    "# Check if the image was loaded successfully.\n",
    "if image is None:\n",
    "    print(f\"Error: Could not load image from {image_path}. Check the file path and permissions.\")\n",
    "else:\n",
    "    # BGR 형식을 RGB로 바꾼다.\n",
    "    image = cv2.cvtColor(image, cv2.COLOR_BGR2RGB)\n",
    "\n",
    "    # xml 파일을 가져와 준다.\n",
    "    tree = et.parse(bbox_path)\n",
    "\n",
    "    # 바운딩 박스의 좌표를 가져와 읽어 온다.\n",
    "    xmin = float(tree.find('./object/bndbox/xmin').text)\n",
    "    xmax = float(tree.find('./object/bndbox/xmax').text)\n",
    "    ymin = float(tree.find('./object/bndbox/ymin').text)\n",
    "    ymax = float(tree.find('./object/bndbox/ymax').text)\n",
    "\n",
    "    # 바운딩 박스를 그린다.\n",
    "    rect_x = xmin\n",
    "    rect_y = ymin\n",
    "    rect_w = xmax - xmin\n",
    "    rect_h = ymax - ymin\n",
    "\n",
    "    rect = Rectangle((rect_x, rect_y), rect_w, rect_h, fill=False, color='red')\n",
    "\n",
    "    # Create a figure and axes if they don't exist\n",
    "    # Removed the check for plt.gca() and explicitly create figure and axes for clarity\n",
    "    fig, ax = plt.subplots()\n",
    "\n",
    "\n",
    "    ax.add_patch(rect)\n",
    "    plt.imshow(image)\n",
    "\n",
    "    plt.show()"
   ]
  },
  {
   "cell_type": "markdown",
   "metadata": {
    "id": "1_mg0NEk6KJd"
   },
   "source": [
    "3. segmap 정보 시각화하기\n",
    "\n",
    "개와 고양이의 구분은 검은색으로, 배경은 빨간색으로, 그 외는 하얀색으로 표현된다."
   ]
  },
  {
   "cell_type": "code",
   "execution_count": null,
   "metadata": {
    "id": "Gj8cH3TR6JeS"
   },
   "outputs": [],
   "source": [
    "# image_path = image_files[110]\n",
    "# # 확장자를 jpg에서 png로 변경한다.\n",
    "# seg_path = image_path.replace(image_dir, seg_dir).replace('jpg', 'png')\n",
    "# # 이미지 읽기\n",
    "# image = cv2.imread(image_path)\n",
    "# image = cv2.cvtColor(image, cv2.COLOR_BGR2RGB)\n",
    "# # seg_amp 정보는 일반 이미지와 달리 GRAYSCALE을 사용하여 읽어 와야 한다.\n",
    "# seg_map = cv2.imgread(seg_path, cv2.IMREAD_GRAYSCALE)\n",
    "\n",
    "# plt.figure(figsize=(15,15))\n",
    "# plt.subplot(1, 2, 1)\n",
    "# plt.imshow(image)\n",
    "# plt.subplot(1, 2, 2)\n",
    "# plt.imshow(seg_map)\n",
    "\n",
    "# plt.show()"
   ]
  },
  {
   "cell_type": "code",
   "execution_count": null,
   "metadata": {
    "colab": {
     "base_uri": "https://localhost:8080/",
     "height": 374
    },
    "executionInfo": {
     "elapsed": 490,
     "status": "ok",
     "timestamp": 1748856769637,
     "user": {
      "displayName": "박병운",
      "userId": "04400398390095856511"
     },
     "user_tz": -540
    },
    "id": "0gNIpsuHHnBe",
    "outputId": "f074a06f-f23c-4071-e840-60011e1762cf"
   },
   "outputs": [],
   "source": [
    "image_path_filename = image_files[110] # Get the filename from the list\n",
    "# Construct the full path to the image file\n",
    "image_path = os.path.join(image_dir, image_path_filename)\n",
    "\n",
    "# 확장자를 jpg에서 png로 변경한다.\n",
    "seg_path = image_path.replace(image_dir, seg_dir).replace('jpg', 'png')\n",
    "# 이미지 읽기\n",
    "image = cv2.imread(image_path)\n",
    "\n",
    "# Check if image loaded successfully\n",
    "if image is None:\n",
    "    print(f\"Error: Could not load image from {image_path}. Check the file path and permissions.\")\n",
    "else:\n",
    "    image = cv2.cvtColor(image, cv2.COLOR_BGR2RGB)\n",
    "    # seg_amp 정보는 일반 이미지와 달리 GRAYSCALE을 사용하여 읽어 와야 한다.\n",
    "    # Corrected the typo in cv2.imread\n",
    "    seg_map = cv2.imread(seg_path, cv2.IMREAD_GRAYSCALE)\n",
    "\n",
    "    plt.figure(figsize=(15,15))\n",
    "    plt.subplot(1, 2, 1)\n",
    "    plt.imshow(image)\n",
    "    plt.subplot(1, 2, 2)\n",
    "    plt.imshow(seg_map)\n",
    "\n",
    "    plt.show()"
   ]
  },
  {
   "cell_type": "markdown",
   "metadata": {
    "id": "E-9GCQfG6Qkr"
   },
   "source": [
    "### 4 KFold 이미지 분류하기\n",
    "\n",
    "교차 검증을 위해 데이터를 5개의 세트로 나누어 보자.\n",
    "\n",
    "1. 훈련 데이터와 검증 데이터 나누기\n",
    "\n",
    "이미지 데이터를 훈련 데이터와 검증 데이터로 나누고 개수를 확인한다."
   ]
  },
  {
   "cell_type": "markdown",
   "metadata": {
    "id": "OpOtHXDh6VnN"
   },
   "source": [
    "<aside>\n",
    "💡 교차 검증을 위해 KFold를 가져온다.   \n",
    "품종을 균등하게 분포하기 위해 StratifiedKFold를 가져온다.   \n",
    "데이터를 나눠 준다.   \n",
    "훈련 데이터와 검증 데이터의 개수를 확인할 수 있다.  \n",
    "\n",
    "</aside>"
   ]
  },
  {
   "cell_type": "markdown",
   "metadata": {
    "id": "ip0NjvbD6YP0"
   },
   "source": [
    "1. 데이터 확인 및 저장하기\n",
    "\n",
    "데이터 비율을 시각화하여 확인한다."
   ]
  },
  {
   "cell_type": "code",
   "execution_count": null,
   "metadata": {
    "id": "35_siL-j6TZm"
   },
   "outputs": [],
   "source": [
    "# value_counts = df[df['fold'] != 5]['id'].value_counts().sort_index()\n",
    "\n",
    "# plt.bar(range(len(value_counts)), value_counts.values, align='center')\n",
    "# plt.xticks(range(len(value_counts)), value_counts.index.values)\n",
    "\n",
    "# plt.tight_layout()\n",
    "# plt.show()\n",
    "\n",
    "# df.to_csv('./kfolds.csv', index=False)"
   ]
  },
  {
   "cell_type": "code",
   "execution_count": null,
   "metadata": {
    "colab": {
     "base_uri": "https://localhost:8080/",
     "height": 487
    },
    "executionInfo": {
     "elapsed": 838,
     "status": "ok",
     "timestamp": 1748856776329,
     "user": {
      "displayName": "박병운",
      "userId": "04400398390095856511"
     },
     "user_tz": -540
    },
    "id": "9Jv-tScMH1VW",
    "outputId": "a0523459-8884-4176-a726-6bb96834b941"
   },
   "outputs": [],
   "source": [
    "# Import StratifiedKFold for cross-validation\n",
    "from sklearn.model_selection import StratifiedKFold\n",
    "\n",
    "# Assuming you want to split the data into 5 folds (as implied by the condition df['fold'] != 5)\n",
    "n_splits = 5\n",
    "\n",
    "# Initialize StratifiedKFold. We stratify by 'species' to ensure balanced distribution.\n",
    "skf = StratifiedKFold(n_splits=n_splits, shuffle=True, random_state=42) # Added random_state for reproducibility\n",
    "\n",
    "# Add a 'fold' column to the DataFrame and initialize with -1\n",
    "df['fold'] = -1\n",
    "\n",
    "# Iterate through the folds and assign fold numbers\n",
    "for fold, (train_index, val_index) in enumerate(skf.split(df, df['species'])):\n",
    "    df.loc[val_index, 'fold'] = fold + 1 # Assign fold number starting from 1\n",
    "\n",
    "# Now, the 'fold' column exists in the DataFrame and you can proceed with the rest of your code\n",
    "value_counts = df[df['fold'] != 5]['id'].value_counts().sort_index()\n",
    "\n",
    "plt.bar(range(len(value_counts)), value_counts.values, align='center')\n",
    "plt.xticks(range(len(value_counts)), value_counts.index.values)\n",
    "\n",
    "plt.tight_layout()\n",
    "plt.show()\n",
    "\n",
    "df.to_csv('./kfolds.csv', index=False)"
   ]
  },
  {
   "cell_type": "markdown",
   "metadata": {
    "id": "wgtkVNE66lve"
   },
   "source": [
    "해당 이미지가 균등하게 뽑혔는지 확인한다.\n",
    "해당 파일을 csv 파일로 저장한다."
   ]
  }
 ],
 "metadata": {
  "accelerator": "GPU",
  "colab": {
   "authorship_tag": "ABX9TyMZQh7HgGBXG8OMb0Rqt4/a",
   "gpuType": "T4",
   "provenance": []
  },
  "kernelspec": {
   "display_name": "Python 3 (ipykernel)",
   "language": "python",
   "name": "python3"
  },
  "language_info": {
   "codemirror_mode": {
    "name": "ipython",
    "version": 3
   },
   "file_extension": ".py",
   "mimetype": "text/x-python",
   "name": "python",
   "nbconvert_exporter": "python",
   "pygments_lexer": "ipython3",
   "version": "3.11.9"
  }
 },
 "nbformat": 4,
 "nbformat_minor": 4
}
