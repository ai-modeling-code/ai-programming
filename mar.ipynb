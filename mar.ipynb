{
 "cells": [
  {
   "cell_type": "code",
   "execution_count": null,
   "metadata": {
    "id": "vYrObbWgm4BL"
   },
   "outputs": [],
   "source": [
    "# from google.colab import drive\n",
    "# drive.mount('/content/drive')"
   ]
  },
  {
   "cell_type": "markdown",
   "metadata": {
    "id": "kLqy8fbk8fWP"
   },
   "source": [
    "# 2 환율 예측 프로젝트"
   ]
  },
  {
   "cell_type": "markdown",
   "metadata": {
    "id": "keMMS6Qm8lvZ"
   },
   "source": [
    "### 1 데이터 확인하기\n",
    "\n",
    "### 2 데이터 불러오기\n",
    "\n",
    "1. 통계표 확인하기\n",
    "2. 웹데이터 크롤링하기\n",
    "\n",
    "환율 데이터 url 주소를 복사하여 가져오고, 판다스 모듈을 활용하여 데이터를 불러온다. 웹 크롤링을 활용할 수도 있지만, 이번 프로젝트에서는 판다스에서 제공해 주는 read_html() 함수를 활용하여 웹 데이터를 크롤링해 온다."
   ]
  },
  {
   "cell_type": "code",
   "execution_count": null,
   "metadata": {
    "id": "nZiRKM75HbfZ"
   },
   "outputs": [],
   "source": [
    "import json"
   ]
  },
  {
   "cell_type": "code",
   "execution_count": null,
   "metadata": {
    "id": "9Pv0vxjJGTOx"
   },
   "outputs": [],
   "source": [
    "import requests"
   ]
  },
  {
   "cell_type": "code",
   "execution_count": null,
   "metadata": {
    "id": "MoMZmaOKGUGF"
   },
   "outputs": [],
   "source": [
    "url = \"https://api.odcloud.kr/api/15105540/v1/uddi:759b90cf-dbcb-4a1e-a269-be8faeb0c380?page=1&perPage=10&serviceKey=7NbYRS5ZqVR8B6kkCHNbn8viLQmZOi9V59miwtJUkIJkF0YUnW3EYldbufLYBuP1F3pA43MRb%2F4xUBIfDAvaHw%3D%3D\"\n",
    "res = requests.get(url)\n",
    "text = res.text\n",
    "mar_json = json.loads(text) #mar = market average rate"
   ]
  },
  {
   "cell_type": "code",
   "execution_count": null,
   "metadata": {
    "id": "5Zclzj3xIN_6"
   },
   "outputs": [],
   "source": [
    "mar_json"
   ]
  },
  {
   "cell_type": "code",
   "execution_count": null,
   "metadata": {
    "id": "sGV1UC6-HeHp"
   },
   "outputs": [],
   "source": [
    "print(json.dumps(mar_json,indent=4,sort_keys=True))"
   ]
  },
  {
   "cell_type": "code",
   "execution_count": null,
   "metadata": {
    "id": "RGXM86uqNkKr"
   },
   "outputs": [],
   "source": [
    "print(mar_json.keys())"
   ]
  },
  {
   "cell_type": "code",
   "execution_count": null,
   "metadata": {
    "id": "wf_47pdaNnTa"
   },
   "outputs": [],
   "source": [
    "print(mar_json['data'])"
   ]
  },
  {
   "cell_type": "code",
   "execution_count": null,
   "metadata": {
    "id": "aGaoSDfgRyuC"
   },
   "outputs": [],
   "source": [
    "item = mar_json['data']"
   ]
  },
  {
   "cell_type": "code",
   "execution_count": null,
   "metadata": {
    "id": "cK5Tz4LkR9LW"
   },
   "outputs": [],
   "source": [
    "item"
   ]
  },
  {
   "cell_type": "code",
   "execution_count": null,
   "metadata": {
    "id": "ZgslrlkJSQp7"
   },
   "outputs": [],
   "source": [
    "for i, v in enumerate(mar_json['data']):\n",
    "    print(i, v)"
   ]
  },
  {
   "cell_type": "code",
   "execution_count": null,
   "metadata": {
    "id": "btXLYdAHPQHb"
   },
   "outputs": [],
   "source": [
    "for item in mar_json['data']:\n",
    "    if '일자(년월일)' in item:\n",
    "        print(item['일자(년월일)'])"
   ]
  },
  {
   "cell_type": "code",
   "execution_count": null,
   "metadata": {
    "id": "7uEiaXJT8Rb5"
   },
   "outputs": [],
   "source": [
    "import pandas as pd\n",
    "# url = 'https://www.index.go.kr/unity/potal/main/EachDtlPageDetail.do?idx_cd=1068&param=013'\n",
    "url = './mar.csv'\n",
    "data = pd.read_csv(url)\n",
    "# data = pd.read_html(url)"
   ]
  },
  {
   "cell_type": "code",
   "execution_count": null,
   "metadata": {
    "id": "o7o1HHX1ZSuh"
   },
   "outputs": [],
   "source": [
    "# data = pd.read_csv('mar.csv')\n",
    "# data"
   ]
  },
  {
   "cell_type": "markdown",
   "metadata": {
    "id": "TC8K6nCu8phx"
   },
   "source": [
    "### 3 데이터 전처리하기\n",
    "\n",
    "크롤링한 웹 데이터에서 크롤링한 데이터를 불러와서 불필요한 데이터를 제거해 보자.\n",
    "\n",
    "1. 데이터 불러오기\n",
    "\n",
    "print(data)를 수행해 보면, 우리가 활용하고자 하는 정보는 두 번째에 담겨 있는 것을 확인 할 수 있다. 데이터의 두 번째 값을 불러온다."
   ]
  },
  {
   "cell_type": "code",
   "execution_count": null,
   "metadata": {
    "id": "a_gXrREa8sOq"
   },
   "outputs": [],
   "source": [
    "data"
   ]
  },
  {
   "cell_type": "markdown",
   "metadata": {
    "id": "lieU9Uzn8uIy"
   },
   "source": [
    "1. 불필요한 데이터 제거하기\n",
    "\n",
    "우리는 원/달러 기준 환율을 분석하고자 하는 것이므로 두 번째 행을 제외하고 불필요한 데이터는 제거한다."
   ]
  },
  {
   "cell_type": "code",
   "execution_count": null,
   "metadata": {
    "id": "rLWSTQjo8wwT"
   },
   "outputs": [],
   "source": [
    "dataFinal = data.iloc[0:2, 1:]\n",
    "dataFinal"
   ]
  },
  {
   "cell_type": "markdown",
   "metadata": {
    "id": "5a3mjrjj8yxz"
   },
   "source": [
    "1. 칼럼명 변경하기\n",
    "\n",
    "현재 칼럼값 중 모호한 값들을 변경해 주어야 한다. ‘Unnamed: 1’은 ‘구분’으로 대체해 주고, 나중에 이 값들을 회귀 분석헤 활용하기 위해 문자열이 들어 있는 값들은 모두 문자열을 제거해 줄 것이다."
   ]
  },
  {
   "cell_type": "code",
   "execution_count": null,
   "metadata": {
    "id": "g7EdlLe382Sr"
   },
   "outputs": [],
   "source": [
    "listTmp = list(dataFinal.columns)\n",
    "listTmp[0] = '구분'\n",
    "listTmp[4] = '202401'\n",
    "listTmp[5] = '202402'\n",
    "listTmp[6] = '202403'\n",
    "listTmp[7] = '202404'\n",
    "listTmp[8] = '202405'\n",
    "listTmp[9] = '202406'\n",
    "dataFinal.columns=listTmp\n",
    "dataFinal"
   ]
  },
  {
   "cell_type": "markdown",
   "metadata": {
    "id": "gx8Rwm2p84Us"
   },
   "source": [
    "1. 인덱스 설정 및 행과 열 바꾸기\n",
    "\n",
    "칼럼들을 인덱스로 만들고, 회귀 분석을 위해 데이터프레임의 행과 열의 축을 바꾼다."
   ]
  },
  {
   "cell_type": "code",
   "execution_count": null,
   "metadata": {
    "id": "y9JXRL2_87FW"
   },
   "outputs": [],
   "source": [
    "dataFinal = dataFinal.set_index('구분')\n",
    "dataFinal"
   ]
  },
  {
   "cell_type": "code",
   "execution_count": null,
   "metadata": {
    "id": "EZuTJCR588vd"
   },
   "outputs": [],
   "source": [
    "dataFinal = dataFinal.T\n",
    "dataFinal"
   ]
  },
  {
   "cell_type": "markdown",
   "metadata": {
    "id": "i_m6b-zx8-oy"
   },
   "source": [
    "### 4 데이터 시각화\n",
    "\n",
    "데이터프레임 시각화를 위해 필요한 모듈을 불러오고, 한글 폰트가 깨지지 않게 해당 코드를 실행한 후, 코랩 상단 ‘런타임’ 메뉴에서 ‘런타임 다시 시작’을 클릭하여 코드를 재실행하자.\n",
    "\n",
    "1. 한글 폰트 및 마이너스 글자 깨짐 처리하기\n",
    "\n",
    "matplotlib에서 제목이나 x,y 축의 이름에 한글을 사용하면 한글이 깨지는 문제가 발생하므로 적절한 처리가 필요하다."
   ]
  },
  {
   "cell_type": "code",
   "execution_count": null,
   "metadata": {},
   "outputs": [],
   "source": [
    "import matplotlib.pyplot as plt\n",
    "import matplotlib"
   ]
  },
  {
   "cell_type": "markdown",
   "metadata": {
    "id": "hGWu9vQs9Emu"
   },
   "source": [
    "1. 시각화하기\n",
    "\n",
    "환율과 절상율에 따라 원/달러 추이 그래프를 시각화한다."
   ]
  },
  {
   "cell_type": "code",
   "execution_count": null,
   "metadata": {
    "id": "hPzR5IB6ikGl"
   },
   "outputs": [],
   "source": [
    "# dataFinal.plot(figsize=(10,8))\n",
    "# plt.title('원/달러 추이')\n",
    "# plt.legend(loc='center left', bbox_to_anchor=(0.7, 0.5))\n",
    "# plt.show()"
   ]
  },
  {
   "cell_type": "markdown",
   "metadata": {
    "id": "6ddSdXxw9K0m"
   },
   "source": [
    "### 5 회귀 분석 알고리즘 적용\n",
    "\n",
    "현재 인덱스인 구분의 연도 데이터를 회귀 분석에 활용하기 위해 year라는 칼럼명으로 열을 추가하자."
   ]
  },
  {
   "cell_type": "code",
   "execution_count": null,
   "metadata": {
    "id": "TbUSd2jc9M-N"
   },
   "outputs": [],
   "source": [
    "dataLR = dataFinal\n",
    "dataLR['year'] = dataLR.index\n",
    "dataLR"
   ]
  },
  {
   "cell_type": "markdown",
   "metadata": {
    "id": "0YUNu7fM9Qmu"
   },
   "source": [
    "연도에 따른 환율을 계산할 것이므로 연도가 X값, 환율이 y값이 되도록 데이터를 분할한다."
   ]
  },
  {
   "cell_type": "code",
   "execution_count": null,
   "metadata": {
    "id": "Az9wCJfj9Ole"
   },
   "outputs": [],
   "source": [
    "X = dataLR.iloc[:,-1:]\n",
    "X"
   ]
  },
  {
   "cell_type": "code",
   "execution_count": null,
   "metadata": {
    "id": "NMZ0e3Lq9TBw"
   },
   "outputs": [],
   "source": [
    "y = dataLR.iloc[:,0]\n",
    "y"
   ]
  },
  {
   "cell_type": "markdown",
   "metadata": {
    "id": "P33RTYsf9Uhw"
   },
   "source": [
    "1. 선형 회귀 알고리즘\n",
    "\n",
    "선형 회귀 모델에 대한 훈련 데이터와 테스트 데이터의 예측 결과 점수를 확인해 보자."
   ]
  },
  {
   "cell_type": "code",
   "execution_count": null,
   "metadata": {
    "id": "CEZgq4T79WpO"
   },
   "outputs": [],
   "source": [
    "y = y.str.replace(',', '').astype(float)\n",
    "\n",
    "from sklearn.linear_model import LinearRegression\n",
    "# from sklearn.metrics import SCORES\n",
    "from sklearn.model_selection import train_test_split\n",
    "\n",
    "lr = LinearRegression()\n",
    "X_train, X_test, y_train, y_test = train_test_split(X, y, random_state=2, test_size=0.3)\n",
    "lr.fit(X_train, y_train)\n",
    "print(\"훈련 세트 점수: {:.2f}\".format(lr.score(X_train, y_train)))\n",
    "print(\"테스트 세트 점수: {:.3f}\".format(lr.score(X_test, y_test)))"
   ]
  },
  {
   "cell_type": "markdown",
   "metadata": {
    "id": "NRaWmbMi9ZlH"
   },
   "source": [
    "선형 회귀 알고리즘 테스트 결과, 훈련 데이터 점수 0.77인 반면 테스트 데이터 점수는 음수가 나오므로 선형 회귀는 유의미한 결과를 보이지 못한다.\n",
    "\n",
    "1. KNN 회귀 알고리즘\n",
    "\n",
    "k값에 따라 가장 정확도가 높은 k값을 설정하기 위해 반복문을 활용하여 k값의 변화에 따른 정확도를 출력한다."
   ]
  },
  {
   "cell_type": "code",
   "execution_count": null,
   "metadata": {
    "id": "BdFV5WqW9cTF"
   },
   "outputs": [],
   "source": [
    "from sklearn.neighbors import KNeighborsRegressor\n",
    "from sklearn.model_selection import train_test_split\n",
    "\n",
    "for k in range(1,7):\n",
    "    knn = KNeighborsRegressor(n_neighbors=k)\n",
    "    knn.fit(X_train, y_train)\n",
    "    print('train R^2 : {:.3f}'.format(knn.score(X_train, y_train)))\n",
    "    print('test k : {}, R^2 : {:.3f}'.format(k, knn.score(X_test, y_test)))"
   ]
  },
  {
   "cell_type": "markdown",
   "metadata": {
    "id": "IA1AE6va9eMB"
   },
   "source": [
    "훈련 데이터와 테스트 데이터 각각의 정확도를 살펴보려고 시각화할 수도 있다."
   ]
  },
  {
   "cell_type": "code",
   "execution_count": null,
   "metadata": {
    "id": "9er4Vq3g9hXd"
   },
   "outputs": [],
   "source": [
    "import matplotlib.pyplot as plt\n",
    "%matplotlib inline\n",
    "\n",
    "training_accuracy=[]\n",
    "test_accuracy=[]\n",
    "neighbors=range(1,7)\n",
    "for k in neighbors:\n",
    "    knn = KNeighborsRegressor(n_neighbors=k)\n",
    "    knn.fit(X_train, y_train)\n",
    "    training_accuracy.append(knn.score(X_train, y_train))\n",
    "    test_accuracy.append(knn.score(X_test, y_test))\n",
    "\n",
    "plt.figure(figsize=(10,8))\n",
    "plt.plot(neighbors, training_accuracy, label=\"Training Accuracy\")\n",
    "plt.plot(neighbors, test_accuracy, label=\"Test Accuracy\")\n",
    "plt.ylabel(\"Accuracy\")\n",
    "plt.xlabel(\"n_neighbors\")\n",
    "plt.xticks(neighbors)\n",
    "plt.legend()"
   ]
  },
  {
   "cell_type": "markdown",
   "metadata": {
    "id": "llChmRIk9jDO"
   },
   "source": [
    "그 결과, k값이 1일 때 62%의 정확도를 보여 가장 정확도가 높았으므로 이를 토대로 모델을 만들어 2023년의 환율을 예측해 보자."
   ]
  },
  {
   "cell_type": "code",
   "execution_count": null,
   "metadata": {
    "id": "QiykqAoA9lXv"
   },
   "outputs": [],
   "source": [
    "knn = KNeighborsRegressor(n_neighbors=1)\n",
    "knn.fit(X_train, y_train)\n",
    "knn.score(X_test, y_test)"
   ]
  },
  {
   "cell_type": "code",
   "execution_count": null,
   "metadata": {
    "id": "DOj7VAqI9nOh"
   },
   "outputs": [],
   "source": [
    "knn.predict([[2025]]) # 2025년 환율 예측"
   ]
  },
  {
   "cell_type": "markdown",
   "metadata": {
    "id": "QH3KSh_T9qD-"
   },
   "source": [
    "2025년의 환율 예측 결과 1달러는 74% 확률로 1,288원이 될 것이다.\n",
    "환율 데이터를 수집하여 회귀 분석 과정을 정리한 전체 소스 코드는 다음과 같다."
   ]
  },
  {
   "cell_type": "code",
   "execution_count": null,
   "metadata": {
    "id": "jX4Y1GSQ9pQA"
   },
   "outputs": [],
   "source": []
  }
 ],
 "metadata": {
  "accelerator": "GPU",
  "colab": {
   "authorship_tag": "ABX9TyOpYXl9Yrge6vpawuB3hF96",
   "gpuType": "T4",
   "provenance": []
  },
  "kernelspec": {
   "display_name": "Python 3 (ipykernel)",
   "language": "python",
   "name": "python3"
  },
  "language_info": {
   "codemirror_mode": {
    "name": "ipython",
    "version": 3
   },
   "file_extension": ".py",
   "mimetype": "text/x-python",
   "name": "python",
   "nbconvert_exporter": "python",
   "pygments_lexer": "ipython3",
   "version": "3.11.9"
  }
 },
 "nbformat": 4,
 "nbformat_minor": 4
}
